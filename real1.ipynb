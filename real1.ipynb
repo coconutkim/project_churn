{
 "cells": [
  {
   "cell_type": "code",
   "execution_count": 3,
   "metadata": {},
   "outputs": [],
   "source": [
    "import pandas as pd"
   ]
  },
  {
   "cell_type": "code",
   "execution_count": 4,
   "metadata": {},
   "outputs": [
    {
     "ename": "FileNotFoundError",
     "evalue": "[Errno 2] No such file or directory: './.csv'",
     "output_type": "error",
     "traceback": [
      "\u001b[1;31m---------------------------------------------------------------------------\u001b[0m",
      "\u001b[1;31mFileNotFoundError\u001b[0m                         Traceback (most recent call last)",
      "Cell \u001b[1;32mIn[4], line 1\u001b[0m\n\u001b[1;32m----> 1\u001b[0m df\u001b[38;5;241m=\u001b[39m\u001b[43mpd\u001b[49m\u001b[38;5;241;43m.\u001b[39;49m\u001b[43mread_csv\u001b[49m\u001b[43m(\u001b[49m\u001b[38;5;124;43m'\u001b[39;49m\u001b[38;5;124;43m./.csv\u001b[39;49m\u001b[38;5;124;43m'\u001b[39;49m\u001b[43m)\u001b[49m\n\u001b[0;32m      2\u001b[0m df\n",
      "File \u001b[1;32mc:\\Users\\chaey\\anaconda3\\envs\\prac_mldl\\Lib\\site-packages\\pandas\\io\\parsers\\readers.py:1026\u001b[0m, in \u001b[0;36mread_csv\u001b[1;34m(filepath_or_buffer, sep, delimiter, header, names, index_col, usecols, dtype, engine, converters, true_values, false_values, skipinitialspace, skiprows, skipfooter, nrows, na_values, keep_default_na, na_filter, verbose, skip_blank_lines, parse_dates, infer_datetime_format, keep_date_col, date_parser, date_format, dayfirst, cache_dates, iterator, chunksize, compression, thousands, decimal, lineterminator, quotechar, quoting, doublequote, escapechar, comment, encoding, encoding_errors, dialect, on_bad_lines, delim_whitespace, low_memory, memory_map, float_precision, storage_options, dtype_backend)\u001b[0m\n\u001b[0;32m   1013\u001b[0m kwds_defaults \u001b[38;5;241m=\u001b[39m _refine_defaults_read(\n\u001b[0;32m   1014\u001b[0m     dialect,\n\u001b[0;32m   1015\u001b[0m     delimiter,\n\u001b[1;32m   (...)\u001b[0m\n\u001b[0;32m   1022\u001b[0m     dtype_backend\u001b[38;5;241m=\u001b[39mdtype_backend,\n\u001b[0;32m   1023\u001b[0m )\n\u001b[0;32m   1024\u001b[0m kwds\u001b[38;5;241m.\u001b[39mupdate(kwds_defaults)\n\u001b[1;32m-> 1026\u001b[0m \u001b[38;5;28;01mreturn\u001b[39;00m \u001b[43m_read\u001b[49m\u001b[43m(\u001b[49m\u001b[43mfilepath_or_buffer\u001b[49m\u001b[43m,\u001b[49m\u001b[43m \u001b[49m\u001b[43mkwds\u001b[49m\u001b[43m)\u001b[49m\n",
      "File \u001b[1;32mc:\\Users\\chaey\\anaconda3\\envs\\prac_mldl\\Lib\\site-packages\\pandas\\io\\parsers\\readers.py:620\u001b[0m, in \u001b[0;36m_read\u001b[1;34m(filepath_or_buffer, kwds)\u001b[0m\n\u001b[0;32m    617\u001b[0m _validate_names(kwds\u001b[38;5;241m.\u001b[39mget(\u001b[38;5;124m\"\u001b[39m\u001b[38;5;124mnames\u001b[39m\u001b[38;5;124m\"\u001b[39m, \u001b[38;5;28;01mNone\u001b[39;00m))\n\u001b[0;32m    619\u001b[0m \u001b[38;5;66;03m# Create the parser.\u001b[39;00m\n\u001b[1;32m--> 620\u001b[0m parser \u001b[38;5;241m=\u001b[39m \u001b[43mTextFileReader\u001b[49m\u001b[43m(\u001b[49m\u001b[43mfilepath_or_buffer\u001b[49m\u001b[43m,\u001b[49m\u001b[43m \u001b[49m\u001b[38;5;241;43m*\u001b[39;49m\u001b[38;5;241;43m*\u001b[39;49m\u001b[43mkwds\u001b[49m\u001b[43m)\u001b[49m\n\u001b[0;32m    622\u001b[0m \u001b[38;5;28;01mif\u001b[39;00m chunksize \u001b[38;5;129;01mor\u001b[39;00m iterator:\n\u001b[0;32m    623\u001b[0m     \u001b[38;5;28;01mreturn\u001b[39;00m parser\n",
      "File \u001b[1;32mc:\\Users\\chaey\\anaconda3\\envs\\prac_mldl\\Lib\\site-packages\\pandas\\io\\parsers\\readers.py:1620\u001b[0m, in \u001b[0;36mTextFileReader.__init__\u001b[1;34m(self, f, engine, **kwds)\u001b[0m\n\u001b[0;32m   1617\u001b[0m     \u001b[38;5;28mself\u001b[39m\u001b[38;5;241m.\u001b[39moptions[\u001b[38;5;124m\"\u001b[39m\u001b[38;5;124mhas_index_names\u001b[39m\u001b[38;5;124m\"\u001b[39m] \u001b[38;5;241m=\u001b[39m kwds[\u001b[38;5;124m\"\u001b[39m\u001b[38;5;124mhas_index_names\u001b[39m\u001b[38;5;124m\"\u001b[39m]\n\u001b[0;32m   1619\u001b[0m \u001b[38;5;28mself\u001b[39m\u001b[38;5;241m.\u001b[39mhandles: IOHandles \u001b[38;5;241m|\u001b[39m \u001b[38;5;28;01mNone\u001b[39;00m \u001b[38;5;241m=\u001b[39m \u001b[38;5;28;01mNone\u001b[39;00m\n\u001b[1;32m-> 1620\u001b[0m \u001b[38;5;28mself\u001b[39m\u001b[38;5;241m.\u001b[39m_engine \u001b[38;5;241m=\u001b[39m \u001b[38;5;28;43mself\u001b[39;49m\u001b[38;5;241;43m.\u001b[39;49m\u001b[43m_make_engine\u001b[49m\u001b[43m(\u001b[49m\u001b[43mf\u001b[49m\u001b[43m,\u001b[49m\u001b[43m \u001b[49m\u001b[38;5;28;43mself\u001b[39;49m\u001b[38;5;241;43m.\u001b[39;49m\u001b[43mengine\u001b[49m\u001b[43m)\u001b[49m\n",
      "File \u001b[1;32mc:\\Users\\chaey\\anaconda3\\envs\\prac_mldl\\Lib\\site-packages\\pandas\\io\\parsers\\readers.py:1880\u001b[0m, in \u001b[0;36mTextFileReader._make_engine\u001b[1;34m(self, f, engine)\u001b[0m\n\u001b[0;32m   1878\u001b[0m     \u001b[38;5;28;01mif\u001b[39;00m \u001b[38;5;124m\"\u001b[39m\u001b[38;5;124mb\u001b[39m\u001b[38;5;124m\"\u001b[39m \u001b[38;5;129;01mnot\u001b[39;00m \u001b[38;5;129;01min\u001b[39;00m mode:\n\u001b[0;32m   1879\u001b[0m         mode \u001b[38;5;241m+\u001b[39m\u001b[38;5;241m=\u001b[39m \u001b[38;5;124m\"\u001b[39m\u001b[38;5;124mb\u001b[39m\u001b[38;5;124m\"\u001b[39m\n\u001b[1;32m-> 1880\u001b[0m \u001b[38;5;28mself\u001b[39m\u001b[38;5;241m.\u001b[39mhandles \u001b[38;5;241m=\u001b[39m \u001b[43mget_handle\u001b[49m\u001b[43m(\u001b[49m\n\u001b[0;32m   1881\u001b[0m \u001b[43m    \u001b[49m\u001b[43mf\u001b[49m\u001b[43m,\u001b[49m\n\u001b[0;32m   1882\u001b[0m \u001b[43m    \u001b[49m\u001b[43mmode\u001b[49m\u001b[43m,\u001b[49m\n\u001b[0;32m   1883\u001b[0m \u001b[43m    \u001b[49m\u001b[43mencoding\u001b[49m\u001b[38;5;241;43m=\u001b[39;49m\u001b[38;5;28;43mself\u001b[39;49m\u001b[38;5;241;43m.\u001b[39;49m\u001b[43moptions\u001b[49m\u001b[38;5;241;43m.\u001b[39;49m\u001b[43mget\u001b[49m\u001b[43m(\u001b[49m\u001b[38;5;124;43m\"\u001b[39;49m\u001b[38;5;124;43mencoding\u001b[39;49m\u001b[38;5;124;43m\"\u001b[39;49m\u001b[43m,\u001b[49m\u001b[43m \u001b[49m\u001b[38;5;28;43;01mNone\u001b[39;49;00m\u001b[43m)\u001b[49m\u001b[43m,\u001b[49m\n\u001b[0;32m   1884\u001b[0m \u001b[43m    \u001b[49m\u001b[43mcompression\u001b[49m\u001b[38;5;241;43m=\u001b[39;49m\u001b[38;5;28;43mself\u001b[39;49m\u001b[38;5;241;43m.\u001b[39;49m\u001b[43moptions\u001b[49m\u001b[38;5;241;43m.\u001b[39;49m\u001b[43mget\u001b[49m\u001b[43m(\u001b[49m\u001b[38;5;124;43m\"\u001b[39;49m\u001b[38;5;124;43mcompression\u001b[39;49m\u001b[38;5;124;43m\"\u001b[39;49m\u001b[43m,\u001b[49m\u001b[43m \u001b[49m\u001b[38;5;28;43;01mNone\u001b[39;49;00m\u001b[43m)\u001b[49m\u001b[43m,\u001b[49m\n\u001b[0;32m   1885\u001b[0m \u001b[43m    \u001b[49m\u001b[43mmemory_map\u001b[49m\u001b[38;5;241;43m=\u001b[39;49m\u001b[38;5;28;43mself\u001b[39;49m\u001b[38;5;241;43m.\u001b[39;49m\u001b[43moptions\u001b[49m\u001b[38;5;241;43m.\u001b[39;49m\u001b[43mget\u001b[49m\u001b[43m(\u001b[49m\u001b[38;5;124;43m\"\u001b[39;49m\u001b[38;5;124;43mmemory_map\u001b[39;49m\u001b[38;5;124;43m\"\u001b[39;49m\u001b[43m,\u001b[49m\u001b[43m \u001b[49m\u001b[38;5;28;43;01mFalse\u001b[39;49;00m\u001b[43m)\u001b[49m\u001b[43m,\u001b[49m\n\u001b[0;32m   1886\u001b[0m \u001b[43m    \u001b[49m\u001b[43mis_text\u001b[49m\u001b[38;5;241;43m=\u001b[39;49m\u001b[43mis_text\u001b[49m\u001b[43m,\u001b[49m\n\u001b[0;32m   1887\u001b[0m \u001b[43m    \u001b[49m\u001b[43merrors\u001b[49m\u001b[38;5;241;43m=\u001b[39;49m\u001b[38;5;28;43mself\u001b[39;49m\u001b[38;5;241;43m.\u001b[39;49m\u001b[43moptions\u001b[49m\u001b[38;5;241;43m.\u001b[39;49m\u001b[43mget\u001b[49m\u001b[43m(\u001b[49m\u001b[38;5;124;43m\"\u001b[39;49m\u001b[38;5;124;43mencoding_errors\u001b[39;49m\u001b[38;5;124;43m\"\u001b[39;49m\u001b[43m,\u001b[49m\u001b[43m \u001b[49m\u001b[38;5;124;43m\"\u001b[39;49m\u001b[38;5;124;43mstrict\u001b[39;49m\u001b[38;5;124;43m\"\u001b[39;49m\u001b[43m)\u001b[49m\u001b[43m,\u001b[49m\n\u001b[0;32m   1888\u001b[0m \u001b[43m    \u001b[49m\u001b[43mstorage_options\u001b[49m\u001b[38;5;241;43m=\u001b[39;49m\u001b[38;5;28;43mself\u001b[39;49m\u001b[38;5;241;43m.\u001b[39;49m\u001b[43moptions\u001b[49m\u001b[38;5;241;43m.\u001b[39;49m\u001b[43mget\u001b[49m\u001b[43m(\u001b[49m\u001b[38;5;124;43m\"\u001b[39;49m\u001b[38;5;124;43mstorage_options\u001b[39;49m\u001b[38;5;124;43m\"\u001b[39;49m\u001b[43m,\u001b[49m\u001b[43m \u001b[49m\u001b[38;5;28;43;01mNone\u001b[39;49;00m\u001b[43m)\u001b[49m\u001b[43m,\u001b[49m\n\u001b[0;32m   1889\u001b[0m \u001b[43m\u001b[49m\u001b[43m)\u001b[49m\n\u001b[0;32m   1890\u001b[0m \u001b[38;5;28;01massert\u001b[39;00m \u001b[38;5;28mself\u001b[39m\u001b[38;5;241m.\u001b[39mhandles \u001b[38;5;129;01mis\u001b[39;00m \u001b[38;5;129;01mnot\u001b[39;00m \u001b[38;5;28;01mNone\u001b[39;00m\n\u001b[0;32m   1891\u001b[0m f \u001b[38;5;241m=\u001b[39m \u001b[38;5;28mself\u001b[39m\u001b[38;5;241m.\u001b[39mhandles\u001b[38;5;241m.\u001b[39mhandle\n",
      "File \u001b[1;32mc:\\Users\\chaey\\anaconda3\\envs\\prac_mldl\\Lib\\site-packages\\pandas\\io\\common.py:873\u001b[0m, in \u001b[0;36mget_handle\u001b[1;34m(path_or_buf, mode, encoding, compression, memory_map, is_text, errors, storage_options)\u001b[0m\n\u001b[0;32m    868\u001b[0m \u001b[38;5;28;01melif\u001b[39;00m \u001b[38;5;28misinstance\u001b[39m(handle, \u001b[38;5;28mstr\u001b[39m):\n\u001b[0;32m    869\u001b[0m     \u001b[38;5;66;03m# Check whether the filename is to be opened in binary mode.\u001b[39;00m\n\u001b[0;32m    870\u001b[0m     \u001b[38;5;66;03m# Binary mode does not support 'encoding' and 'newline'.\u001b[39;00m\n\u001b[0;32m    871\u001b[0m     \u001b[38;5;28;01mif\u001b[39;00m ioargs\u001b[38;5;241m.\u001b[39mencoding \u001b[38;5;129;01mand\u001b[39;00m \u001b[38;5;124m\"\u001b[39m\u001b[38;5;124mb\u001b[39m\u001b[38;5;124m\"\u001b[39m \u001b[38;5;129;01mnot\u001b[39;00m \u001b[38;5;129;01min\u001b[39;00m ioargs\u001b[38;5;241m.\u001b[39mmode:\n\u001b[0;32m    872\u001b[0m         \u001b[38;5;66;03m# Encoding\u001b[39;00m\n\u001b[1;32m--> 873\u001b[0m         handle \u001b[38;5;241m=\u001b[39m \u001b[38;5;28;43mopen\u001b[39;49m\u001b[43m(\u001b[49m\n\u001b[0;32m    874\u001b[0m \u001b[43m            \u001b[49m\u001b[43mhandle\u001b[49m\u001b[43m,\u001b[49m\n\u001b[0;32m    875\u001b[0m \u001b[43m            \u001b[49m\u001b[43mioargs\u001b[49m\u001b[38;5;241;43m.\u001b[39;49m\u001b[43mmode\u001b[49m\u001b[43m,\u001b[49m\n\u001b[0;32m    876\u001b[0m \u001b[43m            \u001b[49m\u001b[43mencoding\u001b[49m\u001b[38;5;241;43m=\u001b[39;49m\u001b[43mioargs\u001b[49m\u001b[38;5;241;43m.\u001b[39;49m\u001b[43mencoding\u001b[49m\u001b[43m,\u001b[49m\n\u001b[0;32m    877\u001b[0m \u001b[43m            \u001b[49m\u001b[43merrors\u001b[49m\u001b[38;5;241;43m=\u001b[39;49m\u001b[43merrors\u001b[49m\u001b[43m,\u001b[49m\n\u001b[0;32m    878\u001b[0m \u001b[43m            \u001b[49m\u001b[43mnewline\u001b[49m\u001b[38;5;241;43m=\u001b[39;49m\u001b[38;5;124;43m\"\u001b[39;49m\u001b[38;5;124;43m\"\u001b[39;49m\u001b[43m,\u001b[49m\n\u001b[0;32m    879\u001b[0m \u001b[43m        \u001b[49m\u001b[43m)\u001b[49m\n\u001b[0;32m    880\u001b[0m     \u001b[38;5;28;01melse\u001b[39;00m:\n\u001b[0;32m    881\u001b[0m         \u001b[38;5;66;03m# Binary mode\u001b[39;00m\n\u001b[0;32m    882\u001b[0m         handle \u001b[38;5;241m=\u001b[39m \u001b[38;5;28mopen\u001b[39m(handle, ioargs\u001b[38;5;241m.\u001b[39mmode)\n",
      "\u001b[1;31mFileNotFoundError\u001b[0m: [Errno 2] No such file or directory: './.csv'"
     ]
    }
   ],
   "source": [
    "df=pd.read_csv('./.csv')\n",
    "df"
   ]
  },
  {
   "cell_type": "code",
   "execution_count": null,
   "metadata": {},
   "outputs": [],
   "source": [
    "df = df.drop(columns=['customer_id'])"
   ]
  },
  {
   "cell_type": "code",
   "execution_count": null,
   "metadata": {},
   "outputs": [],
   "source": [
    "# 신용등급에 따라 신용점수 구간 나누기\n",
    "bins=[300,600,660,720,780,850]\n",
    "labels=['Very poor','Poor','Fair','Good','Excellent']"
   ]
  },
  {
   "cell_type": "code",
   "execution_count": null,
   "metadata": {},
   "outputs": [],
   "source": [
    "df['section of credit_score'] = pd.cut(\n",
    "    df['credit_score'], bins=bins, labels=labels,right=True)"
   ]
  },
  {
   "cell_type": "code",
   "execution_count": null,
   "metadata": {},
   "outputs": [],
   "source": [
    "df"
   ]
  },
  {
   "cell_type": "code",
   "execution_count": null,
   "metadata": {},
   "outputs": [],
   "source": [
    "df.insert(df.columns.get_loc('credit_score') + 1,\n",
    "              'section of credit_score',\n",
    "              df.pop('section of credit_score'))\n",
    "df"
   ]
  },
  {
   "cell_type": "code",
   "execution_count": null,
   "metadata": {},
   "outputs": [],
   "source": [
    "df['section of credit_score'].value_counts()"
   ]
  },
  {
   "cell_type": "code",
   "execution_count": null,
   "metadata": {},
   "outputs": [],
   "source": [
    "# 나이대에 따라 나이 나누어서 새로운 변수 만들기\n",
    "bins = [0, 19, 29, 39, 49, 59, 69, 79, 89, 99]  # 각 구간의 경계값\n",
    "labels = ['teenager', 'twenties', 'thirties', 'forties', 'fifties', 'sixties','seventies','eighties','nineties']  # 각 구간의 레이블"
   ]
  },
  {
   "cell_type": "code",
   "execution_count": null,
   "metadata": {},
   "outputs": [],
   "source": [
    "df['age_group'] = pd.cut(\n",
    "    df['age'], bins=bins, labels=labels,right=True)\n",
    "df"
   ]
  },
  {
   "cell_type": "code",
   "execution_count": null,
   "metadata": {},
   "outputs": [],
   "source": [
    "df.insert(df.columns.get_loc('age') + 1,\n",
    "              'age_group',\n",
    "              df.pop('age_group'))\n",
    "df"
   ]
  },
  {
   "cell_type": "code",
   "execution_count": null,
   "metadata": {},
   "outputs": [],
   "source": [
    "# 우선 데이터의 상한선을 찾아 어디서부터 이상치로 판별할 수 있는지 알아본다\n",
    "\n",
    "# print(df['age'].max())\n",
    "\n",
    "import numpy as np\n",
    "\n",
    "# 데이터 정렬\n",
    "data_sorted = np.sort(df['age'])\n",
    "\n",
    "# 1사분위수(Q1)와 3사분위수(Q3) 계산\n",
    "Q1 = np.percentile(data_sorted, 25)\n",
    "Q3 = np.percentile(data_sorted, 75)\n",
    "\n",
    "# IQR 계산\n",
    "IQR = Q3 - Q1\n",
    "\n",
    "# 상한선 계산\n",
    "upper_bound = Q3 + 1.5 * IQR\n",
    "\n",
    "print(f\"1사분위수 (Q1): {Q1}\")\n",
    "print(f\"3사분위수 (Q3): {Q3}\")\n",
    "print(f\"IQR: {IQR}\")\n",
    "print(f\"상한선: {upper_bound}\")\n",
    "\n",
    "# 상한선 초과 데이터 확인\n",
    "outliers_above = [x for x in df['age'] if x > upper_bound]\n",
    "print(f\"상한선 초과 데이터: {sorted(outliers_above)}\")\n",
    "\n",
    "# 상한선을 넘긴 하지만 범위를 지나치게 벗어나지 않음\n",
    "# 이상치로 간주하지 않는다"
   ]
  },
  {
   "cell_type": "code",
   "execution_count": null,
   "metadata": {},
   "outputs": [],
   "source": [
    "import numpy as np\n",
    "\n",
    "# 데이터 정렬\n",
    "data_sorted = np.sort(df['products_number'])\n",
    "\n",
    "# 1사분위수(Q1)와 3사분위수(Q3) 계산\n",
    "Q1 = np.percentile(data_sorted, 25)\n",
    "Q3 = np.percentile(data_sorted, 75)\n",
    "\n",
    "# IQR 계산\n",
    "IQR = Q3 - Q1\n",
    "\n",
    "# 상한선 계산\n",
    "upper_bound = Q3 + 1.5 * IQR\n",
    "\n",
    "print(f\"1사분위수 (Q1): {Q1}\")\n",
    "print(f\"3사분위수 (Q3): {Q3}\")\n",
    "print(f\"IQR: {IQR}\")\n",
    "print(f\"상한선: {upper_bound}\")\n",
    "\n",
    "# 상한선 초과 데이터 확인\n",
    "outliers_above = [x for x in df['products_number'] if x > upper_bound]\n",
    "print(f\"상한선 초과 데이터: {sorted(outliers_above)}\")"
   ]
  },
  {
   "cell_type": "code",
   "execution_count": null,
   "metadata": {},
   "outputs": [],
   "source": [
    "import numpy as np\n",
    "\n",
    "# 데이터 정렬\n",
    "data_sorted = np.sort(df['credit_score'])\n",
    "\n",
    "# 1사분위수(Q1)와 3사분위수(Q3) 계산\n",
    "Q1 = np.percentile(data_sorted, 25)\n",
    "Q3 = np.percentile(data_sorted, 75)\n",
    "\n",
    "# IQR 계산\n",
    "IQR = Q3 - Q1\n",
    "\n",
    "# 상한선 계산\n",
    "lower_bound = Q1 - 1.5 * IQR\n",
    "\n",
    "print(f\"1사분위수 (Q1): {Q1}\")\n",
    "print(f\"3사분위수 (Q3): {Q3}\")\n",
    "print(f\"IQR: {IQR}\")\n",
    "print(f\"하한선: {lower_bound}\")\n",
    "\n",
    "# 상한선 초과 데이터 확인\n",
    "outliers_below = [x for x in df['credit_score'] if x < lower_bound]\n",
    "print(f\"하한선 미만 데이터: {sorted(outliers_below)}\")"
   ]
  },
  {
   "cell_type": "code",
   "execution_count": null,
   "metadata": {},
   "outputs": [],
   "source": [
    "# 범위를 지나치게 벗어나는 값이 없다\n",
    "# 모든 변수에 이상치가 없는 것으로 간주한다"
   ]
  },
  {
   "cell_type": "code",
   "execution_count": null,
   "metadata": {},
   "outputs": [],
   "source": [
    "df"
   ]
  },
  {
   "cell_type": "code",
   "execution_count": null,
   "metadata": {},
   "outputs": [],
   "source": [
    "import pandas as pd\n",
    "\n",
    "# 예제 데이터프레임 생성\n",
    "# data = pd.DataFrame({\n",
    "#     'age_group': ['10대', '20대', '20대', '30대', '30대', '10대', '40대'],\n",
    "#     'churn': [1, 1, 0, 1, 0, 0, 1]\n",
    "# })\n",
    "\n",
    "# 나이대별로 그룹화하여 churn 값별 개수 계산\n",
    "grouped_counts = df.groupby('age_group')['churn'].value_counts().unstack(fill_value=0)\n"
   ]
  },
  {
   "cell_type": "code",
   "execution_count": null,
   "metadata": {},
   "outputs": [],
   "source": [
    "grouped_counts"
   ]
  },
  {
   "cell_type": "code",
   "execution_count": null,
   "metadata": {},
   "outputs": [],
   "source": [
    "import pandas as pd\n",
    "\n",
    "# 각 변수에서 값이 0인 개수 찾기\n",
    "zero_counts = (df == 0).sum()\n",
    "print(\"\\nCount of Zero Values per Variable:\")\n",
    "print(zero_counts)\n"
   ]
  },
  {
   "cell_type": "code",
   "execution_count": null,
   "metadata": {},
   "outputs": [],
   "source": [
    "import seaborn as sns\n",
    "import matplotlib.pyplot as plt\n",
    "\n",
    "# 막대 그래프 플롯\n",
    "plt.figure(figsize=(10, 6))\n",
    "sns.countplot(x='tenure', data=df, palette='viridis')\n",
    "# plt.title('Bar Plot of Tenure')\n",
    "plt.xlabel('Tenure')\n",
    "plt.ylabel('Count')\n",
    "plt.xticks(range(min(df['tenure']), max(df['tenure']) + 1))  # x축 단위를 정수로 설정\n",
    "plt.grid(True)\n",
    "plt.show()\n"
   ]
  },
  {
   "cell_type": "code",
   "execution_count": null,
   "metadata": {},
   "outputs": [],
   "source": [
    "import pandas as pd\n",
    "import matplotlib.pyplot as plt\n",
    "import seaborn as sns\n",
    "\n",
    "# KDE 플롯\n",
    "plt.figure(figsize=(10, 6))\n",
    "sns.kdeplot(df['balance'], fill=True, color='blue')\n",
    "\n",
    "# x축의 범위를 데이터의 최소값과 최대값에 맞추기\n",
    "plt.xlim(df['balance'].min(), df['balance'].max())\n",
    "\n",
    "# plt.title('KDE Plot of Balance')\n",
    "plt.xlabel('Balance')\n",
    "plt.ylabel('Density')\n",
    "plt.grid(True)\n",
    "plt.show()\n",
    "\n",
    "# 계좌가 0인 것들은 신규 개설된 계좌라서 그런게 아닐까?\n"
   ]
  },
  {
   "cell_type": "code",
   "execution_count": null,
   "metadata": {},
   "outputs": [],
   "source": [
    "df=pd.read_csv('C:/ex/Project/grouped_data1.csv')\n",
    "df"
   ]
  },
  {
   "cell_type": "code",
   "execution_count": null,
   "metadata": {},
   "outputs": [],
   "source": [
    "import pandas as pd\n",
    "\n",
    "# 잔액 대비 보유 기간\n",
    "df['balance_per_tenure'] = df['balance'] / df['tenure']\n",
    "\n",
    "# 잔액 대비 보유 기간:\n",
    "# 계좌 잔액을 계좌 보유 기간으로 나눈 값을 사용하여 잔액 대비 보유 기간을 계산할 수 있습니다.\n",
    "# 이 변수는 잔액이 보유 기간에 비례하는지 또는 잔액이 적은 계좌가 상대적으로 더 오래된 계좌인지 평가할 수 있습니다.\n",
    "# 계좌 잔액 / 계좌 보유 기간의 값이 높으면, 보유 기간이 길어질수록 잔액이 많다는 의미일 수 있습니다.\n",
    "\n",
    "df.insert(df.columns.get_loc('balance_group') + 1,\n",
    "              'balance_per_tenure',\n",
    "              df.pop('balance_per_tenure'))\n",
    "df\n",
    "\n"
   ]
  },
  {
   "cell_type": "code",
   "execution_count": null,
   "metadata": {},
   "outputs": [],
   "source": [
    "df['balance_per_tenure'].value_counts()"
   ]
  },
  {
   "cell_type": "code",
   "execution_count": null,
   "metadata": {},
   "outputs": [],
   "source": [
    "print(df['balance_per_tenure'].median())\n",
    "print(df['balance_per_tenure'].min())\n",
    "print(df['balance_per_tenure'].max())\n",
    "print(df['balance_per_tenure'].unique().size)"
   ]
  },
  {
   "cell_type": "code",
   "execution_count": null,
   "metadata": {},
   "outputs": [],
   "source": [
    "import pandas as pd\n",
    "import matplotlib.pyplot as plt\n",
    "import seaborn as sns\n",
    "\n",
    "# NaN 값을 특정 값으로 대체 (예: 0)\n",
    "df['balance_per_tenure']=df['balance_per_tenure'].fillna(0)\n",
    "# print(df_filled)\n",
    "\n",
    "# Inf 값을 특정 값으로 대체 (예: 0)\n",
    "df['balance_per_tenure']=df['balance_per_tenure'].replace([np.inf, -np.inf], 0)\n",
    "# print(df_filled)\n",
    "\n",
    "# KDE 플롯\n",
    "plt.figure(figsize=(10, 6))\n",
    "sns.kdeplot(df['balance_per_tenure'], fill=True, color='blue')\n",
    "\n",
    "# x축의 범위를 데이터의 최소값과 최대값에 맞추기\n",
    "# plt.xlim(df['balance_per_tenure'].min(), df['balance_per_tenure'].max())\n",
    "\n",
    "# plt.title('KDE Plot of Balance')\n",
    "plt.xlabel('balance_per_tenure')\n",
    "plt.ylabel('Density')\n",
    "plt.grid(True)\n",
    "plt.show()"
   ]
  },
  {
   "cell_type": "code",
   "execution_count": 5,
   "metadata": {},
   "outputs": [
    {
     "ename": "NameError",
     "evalue": "name 'df' is not defined",
     "output_type": "error",
     "traceback": [
      "\u001b[1;31m---------------------------------------------------------------------------\u001b[0m",
      "\u001b[1;31mNameError\u001b[0m                                 Traceback (most recent call last)",
      "Cell \u001b[1;32mIn[5], line 6\u001b[0m\n\u001b[0;32m      4\u001b[0m \u001b[38;5;66;03m# 히스토그램 플롯\u001b[39;00m\n\u001b[0;32m      5\u001b[0m plt\u001b[38;5;241m.\u001b[39mfigure(figsize\u001b[38;5;241m=\u001b[39m(\u001b[38;5;241m12\u001b[39m, \u001b[38;5;241m6\u001b[39m))\n\u001b[1;32m----> 6\u001b[0m plt\u001b[38;5;241m.\u001b[39mhist(\u001b[43mdf\u001b[49m[df[\u001b[38;5;124m'\u001b[39m\u001b[38;5;124mchurn\u001b[39m\u001b[38;5;124m'\u001b[39m] \u001b[38;5;241m==\u001b[39m \u001b[38;5;241m0\u001b[39m][\u001b[38;5;124m'\u001b[39m\u001b[38;5;124mbalance_per_tenure\u001b[39m\u001b[38;5;124m'\u001b[39m], bins\u001b[38;5;241m=\u001b[39m\u001b[38;5;241m10\u001b[39m, alpha\u001b[38;5;241m=\u001b[39m\u001b[38;5;241m0.5\u001b[39m, label\u001b[38;5;241m=\u001b[39m\u001b[38;5;124m'\u001b[39m\u001b[38;5;124mChurn = 0\u001b[39m\u001b[38;5;124m'\u001b[39m)\n\u001b[0;32m      7\u001b[0m plt\u001b[38;5;241m.\u001b[39mhist(df[df[\u001b[38;5;124m'\u001b[39m\u001b[38;5;124mchurn\u001b[39m\u001b[38;5;124m'\u001b[39m] \u001b[38;5;241m==\u001b[39m \u001b[38;5;241m1\u001b[39m][\u001b[38;5;124m'\u001b[39m\u001b[38;5;124mbalance_per_tenure\u001b[39m\u001b[38;5;124m'\u001b[39m], bins\u001b[38;5;241m=\u001b[39m\u001b[38;5;241m10\u001b[39m, alpha\u001b[38;5;241m=\u001b[39m\u001b[38;5;241m0.5\u001b[39m, label\u001b[38;5;241m=\u001b[39m\u001b[38;5;124m'\u001b[39m\u001b[38;5;124mChurn = 1\u001b[39m\u001b[38;5;124m'\u001b[39m)\n\u001b[0;32m      8\u001b[0m \u001b[38;5;66;03m# plt.title('Histogram of Balance by Churn')\u001b[39;00m\n",
      "\u001b[1;31mNameError\u001b[0m: name 'df' is not defined"
     ]
    },
    {
     "data": {
      "text/plain": [
       "<Figure size 1200x600 with 0 Axes>"
      ]
     },
     "metadata": {},
     "output_type": "display_data"
    }
   ],
   "source": [
    "import pandas as pd\n",
    "import matplotlib.pyplot as plt\n",
    "\n",
    "# 히스토그램 플롯\n",
    "plt.figure(figsize=(12, 6))\n",
    "plt.hist(df[df['churn'] == 0]['balance_per_tenure'], bins=10, alpha=0.5, label='Churn = 0')\n",
    "plt.hist(df[df['churn'] == 1]['balance_per_tenure'], bins=10, alpha=0.5, label='Churn = 1')\n",
    "# plt.title('Histogram of Balance by Churn')\n",
    "plt.xlabel('balance_per_tenure')\n",
    "plt.ylabel('Frequency')\n",
    "plt.legend()\n",
    "plt.grid(True)\n",
    "plt.show()\n"
   ]
  },
  {
   "cell_type": "code",
   "execution_count": null,
   "metadata": {},
   "outputs": [],
   "source": [
    "# 잔액과 보유기간의 관계성을 산점도로 살펴보기\n",
    "\n",
    "import matplotlib.pyplot as plt\n",
    "import pandas as pd\n",
    "\n",
    "# 산점도 생성\n",
    "plt.scatter(df['balance'], df['tenure'])\n",
    "\n",
    "# 그래프에 제목과 라벨 추가\n",
    "# plt.title('Scatter Plot of Account Balance vs Account Age')\n",
    "plt.xlabel('balance')\n",
    "plt.ylabel('tenure')\n",
    "\n",
    "# 그래프 보여주기\n",
    "plt.show()\n"
   ]
  },
  {
   "cell_type": "code",
   "execution_count": null,
   "metadata": {},
   "outputs": [],
   "source": [
    "# 잔액 대비 보유기간과 이탈 여부 간의 산점도\n",
    "\n",
    "import matplotlib.pyplot as plt\n",
    "import pandas as pd\n",
    "\n",
    "# 산점도 생성\n",
    "plt.scatter(df['balance_per_tenure'], df['churn'])\n",
    "\n",
    "# 그래프에 제목과 라벨 추가\n",
    "# plt.title('Scatter Plot of Account Balance vs Account Age')\n",
    "plt.xlabel('balance_per_tenure')\n",
    "plt.ylabel('churn')\n",
    "\n",
    "# 그래프 보여주기\n",
    "plt.show()"
   ]
  },
  {
   "cell_type": "code",
   "execution_count": null,
   "metadata": {},
   "outputs": [],
   "source": [
    "import matplotlib.pyplot as plt\n",
    "\n",
    "# 히스토그램 플롯\n",
    "plt.figure(figsize=(10, 6))\n",
    "plt.hist(df['balance'], bins=10, edgecolor='black')\n",
    "plt.title('Histogram of Balance')\n",
    "plt.xlabel('Balance')\n",
    "plt.ylabel('Frequency')\n",
    "plt.grid(True)\n",
    "plt.show()\n"
   ]
  },
  {
   "cell_type": "code",
   "execution_count": null,
   "metadata": {},
   "outputs": [],
   "source": [
    "df['balance'].value_counts()"
   ]
  },
  {
   "cell_type": "code",
   "execution_count": null,
   "metadata": {},
   "outputs": [],
   "source": [
    "# 잔액이 0=이탈, 이탈 아니다\n",
    "# 잔액 여러가지=이탈, 이탈 아니다\n",
    "\n",
    "grouped_counts2 = df.groupby('balance')['churn'].value_counts().unstack(fill_value=0)\n",
    "grouped_counts2"
   ]
  },
  {
   "cell_type": "code",
   "execution_count": null,
   "metadata": {},
   "outputs": [],
   "source": [
    "# 잔액 0, 잔액 나머지 두 그룹으로 만들어서 새로운 변수 추가\n",
    "# import pandas as pd\n",
    "# import numpy as np\n",
    "\n",
    "# 0.00이 아닌 값들을 한 그룹으로 묶기\n",
    "# df['balance_group'] = np.where(df['balance'] == 0.00, '0.00', 'rest')\n"
   ]
  },
  {
   "cell_type": "code",
   "execution_count": null,
   "metadata": {},
   "outputs": [],
   "source": [
    "# 값이 0.00인 경우 'zero', 나머지 경우 'rest'로 설정\n",
    "df['balance_group'] = df['balance'].apply(lambda x: 'zero' if x == 0.00 else 'rest')\n"
   ]
  },
  {
   "cell_type": "code",
   "execution_count": null,
   "metadata": {},
   "outputs": [],
   "source": [
    "df.insert(df.columns.get_loc('balance') + 1,\n",
    "              'balance_group',\n",
    "              df.pop('balance_group'))"
   ]
  },
  {
   "cell_type": "code",
   "execution_count": null,
   "metadata": {},
   "outputs": [],
   "source": [
    "df"
   ]
  },
  {
   "cell_type": "code",
   "execution_count": null,
   "metadata": {},
   "outputs": [],
   "source": [
    "# 위의 데이터프레임을 csv 파일로 저장\n",
    "csv_filename = 'grouped_data.csv'\n",
    "df.to_csv(csv_filename, index=False)"
   ]
  },
  {
   "cell_type": "code",
   "execution_count": null,
   "metadata": {},
   "outputs": [],
   "source": [
    "grouped_counts3 = df.groupby('balance_group')['churn'].value_counts().unstack(fill_value=0)\n",
    "grouped_counts3"
   ]
  },
  {
   "cell_type": "code",
   "execution_count": null,
   "metadata": {},
   "outputs": [],
   "source": [
    "import pandas as pd\n",
    "import matplotlib.pyplot as plt\n",
    "import seaborn as sns\n",
    "\n",
    "# 그룹화하여 churn 값별 개수 계산\n",
    "grouped_counts3 = df.groupby('balance_group')['churn'].value_counts().unstack(fill_value=0)\n",
    "\n",
    "# 비율 계산\n",
    "grouped_percentage3 = grouped_counts3.div(grouped_counts3.sum(axis=1), axis=0) * 100\n",
    "\n",
    "# 비율 플롯 생성\n",
    "plt.figure(figsize=(10, 6))\n",
    "\n",
    "# Bar plot으로 비율 시각화\n",
    "grouped_percentage3.plot(kind='bar', stacked=True, colormap='viridis', ax=plt.gca())\n",
    "\n",
    "# 비율 표시\n",
    "for i, (index, row) in enumerate(grouped_percentage3.iterrows()):\n",
    "    for j, value in enumerate(row):\n",
    "        plt.text(i, row.cumsum().iloc[j] - value / 2, f'{value:.1f}%', ha='center', va='center', color='white')\n",
    "\n",
    "plt.xlabel('balance_group')\n",
    "plt.ylabel('Percentage (%)')\n",
    "# plt.title('Churn Rate by balance_group')\n",
    "plt.legend(title='Churn', labels=['No Churn (0)', 'Churn (1)'])\n",
    "plt.xticks(rotation=45)\n",
    "plt.tight_layout()\n",
    "plt.show()"
   ]
  },
  {
   "cell_type": "code",
   "execution_count": null,
   "metadata": {},
   "outputs": [],
   "source": [
    "# 전체 이탈 비율 약 20, 잔액이 0인 것들 중에서 이탈 비율 약 14\n",
    "\n",
    "# 만약 전체 이탈 비율이 14%보다 낮다면, 0인 값에서의 이탈 비율이 더 높으므로 0이 유의미할 수 있습니다.\n",
    "# 반대로, 전체 이탈 비율이 14%보다 높다면, 0인 데이터에서의 이탈 비율이 더 낮아 0이 의미가 덜할 수 있습니다.\n",
    "\n",
    "# 세분화 분석: 잔액이 0인 데이터가 특정 사용자 그룹(예: 가입 기간, 지역 등)에 편중되어 있는지 분석합니다.\n",
    "# 특정 그룹에서 잔액이 0인 비율이 높은 경우, 그룹 특성에 따라 추가적인 분석이 필요할 수 있습니다."
   ]
  },
  {
   "cell_type": "code",
   "execution_count": null,
   "metadata": {},
   "outputs": [],
   "source": [
    "# 전체 이탈 비율 구하기\n",
    "import pandas as pd\n",
    "\n",
    "\n",
    "# ㄱ 칼럼에서 각 데이터의 비율 계산\n",
    "ratio = df['churn'].value_counts(normalize=True)\n",
    "\n",
    "# 결과 출력 (백분율 형태로 보기 좋게 변환)\n",
    "ratio_percentage = ratio * 100\n",
    "print(ratio_percentage)\n"
   ]
  },
  {
   "cell_type": "code",
   "execution_count": null,
   "metadata": {},
   "outputs": [],
   "source": [
    "# 전체 이탈 비율 구하기\n",
    "import pandas as pd\n",
    "\n",
    "\n",
    "# ㄱ 칼럼에서 각 데이터의 비율 계산\n",
    "ratio = df['balance_group'].value_counts(normalize=True)\n",
    "\n",
    "# 결과 출력 (백분율 형태로 보기 좋게 변환)\n",
    "ratio_percentage = ratio * 100\n",
    "print(ratio_percentage)"
   ]
  },
  {
   "cell_type": "code",
   "execution_count": null,
   "metadata": {},
   "outputs": [],
   "source": [
    "df.dtypes"
   ]
  },
  {
   "cell_type": "code",
   "execution_count": null,
   "metadata": {},
   "outputs": [],
   "source": [
    "# df['section of credit_score'] = df['section of credit_score'].astype('category')\n",
    "df['country'] = df['country'].astype('category')\n",
    "df['gender'] = df['gender'].astype('category')\n",
    "# df['age_group'] = df['age_group'].astype('category')\n",
    "df['balance_group'] = df['balance_group'].astype('category')\n",
    "df['credit_card'] = df['credit_card'].astype('category')\n",
    "df['active_member'] = df['active_member'].astype('category')\n",
    "df['churn'] = df['churn'].astype('category')\n",
    "df['age_group'] = df['age_group'].astype('category')"
   ]
  },
  {
   "cell_type": "code",
   "execution_count": null,
   "metadata": {},
   "outputs": [],
   "source": [
    "df.dtypes"
   ]
  },
  {
   "cell_type": "code",
   "execution_count": null,
   "metadata": {},
   "outputs": [],
   "source": [
    "import pandas as pd\n",
    "import matplotlib.pyplot as plt\n",
    "\n",
    "# 비율을 플로팅\n",
    "ax = grouped_counts.plot(kind='bar', stacked=True, figsize=(10, 6), color=['skyblue', 'salmon'])\n",
    "\n",
    "# 플롯에 제목과 레이블 추가\n",
    "plt.title('Churn Rate by Age Group')\n",
    "plt.xlabel('Age Group')\n",
    "plt.ylabel('Percentage (%)')\n",
    "plt.legend(title='Churn', labels=['0', '1'])\n",
    "\n",
    "# 플롯 표시\n",
    "plt.show()\n"
   ]
  },
  {
   "cell_type": "code",
   "execution_count": null,
   "metadata": {},
   "outputs": [],
   "source": [
    "import pandas as pd\n",
    "import matplotlib.pyplot as plt\n",
    "import seaborn as sns\n",
    "\n",
    "# 그룹화하여 churn 값별 개수 계산\n",
    "grouped_counts = df.groupby('age_group')['churn'].value_counts().unstack(fill_value=0)\n",
    "\n",
    "# 비율 계산\n",
    "grouped_percentage = grouped_counts.div(grouped_counts.sum(axis=1), axis=0) * 100\n",
    "\n",
    "# 비율 플롯 생성\n",
    "plt.figure(figsize=(10, 6))\n",
    "\n",
    "# Bar plot으로 비율 시각화\n",
    "grouped_percentage.plot(kind='bar', stacked=True, colormap='viridis', ax=plt.gca())\n",
    "\n",
    "# 비율 표시\n",
    "for i, (index, row) in enumerate(grouped_percentage.iterrows()):\n",
    "    for j, value in enumerate(row):\n",
    "        plt.text(i, row.cumsum().iloc[j] - value / 2, f'{value:.1f}%', ha='center', va='center', color='white')\n",
    "\n",
    "plt.xlabel('Age Group')\n",
    "plt.ylabel('Percentage (%)')\n",
    "plt.title('Churn Rate by Age Group')\n",
    "plt.legend(title='Churn', labels=['No Churn (0)', 'Churn (1)'])\n",
    "plt.xticks(rotation=45)\n",
    "plt.tight_layout()\n",
    "plt.show()\n"
   ]
  },
  {
   "cell_type": "code",
   "execution_count": null,
   "metadata": {},
   "outputs": [],
   "source": [
    "df"
   ]
  },
  {
   "cell_type": "code",
   "execution_count": null,
   "metadata": {},
   "outputs": [],
   "source": [
    "df.dtypes"
   ]
  },
  {
   "cell_type": "code",
   "execution_count": null,
   "metadata": {},
   "outputs": [],
   "source": [
    "# 성별과 나이대를 결합하여 파생 변수 만들기\n",
    "\n",
    "import pandas as pd\n",
    "\n",
    "# 나이대와 성별 결합하여 새로운 변수 생성\n",
    "df['agegroup_gender'] = df['age_group'].astype(str) + '_' + df['gender'].astype(str)\n",
    "\n",
    "df.insert(df.columns.get_loc('gender') + 1,\n",
    "              'agegroup_gender',\n",
    "              df.pop('agegroup_gender'))\n",
    "\n",
    "df.insert(df.columns.get_loc('country') + 1,\n",
    "              'age_group',\n",
    "              df.pop('age_group'))\n",
    "\n",
    "df.insert(df.columns.get_loc('country') + 1,\n",
    "              'age',\n",
    "              df.pop('age'))\n",
    "\n",
    "# 위의 데이터프레임을 csv 파일로 저장\n",
    "csv_filename = 'grouped_data2.csv'\n",
    "df.to_csv(csv_filename, index=False)\n",
    "\n",
    "# 결과 출력\n",
    "df\n"
   ]
  },
  {
   "cell_type": "code",
   "execution_count": null,
   "metadata": {},
   "outputs": [],
   "source": [
    "df['agegroup_gender']=df['agegroup_gender'].astype('category')\n",
    "df['agegroup_gender'].dtype"
   ]
  },
  {
   "cell_type": "code",
   "execution_count": null,
   "metadata": {},
   "outputs": [],
   "source": [
    "df['agegroup_gender'].value_counts().sort_index()"
   ]
  },
  {
   "cell_type": "code",
   "execution_count": null,
   "metadata": {},
   "outputs": [],
   "source": [
    "# 카테고리별 이탈 비율 시각화\n",
    "plt.figure(figsize=(10, 6))\n",
    "sns.barplot(x='agegroup_gender', y='churn', data=df, estimator=lambda x: sum(x) / len(x))  # 이탈 비율\n",
    "# plt.title('Churn Rate by Age Group')\n",
    "plt.xlabel('agegroup_gender')\n",
    "plt.ylabel('churn')\n",
    "plt.xticks(rotation=45)\n",
    "plt.show()\n"
   ]
  },
  {
   "cell_type": "code",
   "execution_count": null,
   "metadata": {},
   "outputs": [],
   "source": [
    "\n",
    "# 상자 그림 시각화\n",
    "plt.figure(figsize=(10, 6))\n",
    "sns.boxplot(x='agegroup_gender', y='churn', data=df)\n",
    "# plt.title('Income Distribution by Age Group')\n",
    "plt.xlabel('agegroup_gender')\n",
    "plt.ylabel('churn')\n",
    "plt.show()\n"
   ]
  },
  {
   "cell_type": "code",
   "execution_count": null,
   "metadata": {},
   "outputs": [],
   "source": [
    "# 박스플롯 시각화\n",
    "plt.figure(figsize=(12, 6))\n",
    "sns.boxplot(x='gender', y='age', data=df, hue='churn', palette='Set1')\n",
    "# plt.title('Distribution of Age by Gender and Churn Status')\n",
    "plt.xlabel('Gender')\n",
    "plt.ylabel('Age')\n",
    "plt.legend(title='Churned', loc='upper right')\n",
    "plt.show()\n"
   ]
  },
  {
   "cell_type": "code",
   "execution_count": null,
   "metadata": {},
   "outputs": [],
   "source": [
    "import pandas as pd\n",
    "import numpy as np\n",
    "from scipy import stats\n",
    "\n",
    "# 예시 데이터프레임 생성\n",
    "np.random.seed(0)\n",
    "data = {\n",
    "    'agegroup_gender': pd.Categorical(['18-24_Male', '25-34_Female', '35-44_Female', '45-54_Male', '55+_Male'] * 20),\n",
    "    'income': np.random.normal(loc=50000, scale=10000, size=100)\n",
    "}\n",
    "df = pd.DataFrame(data)\n",
    "\n",
    "# 각 그룹의 income 데이터를 분리\n",
    "groups = df.groupby('agegroup_gender')['income'].apply(list)\n",
    "\n",
    "# 단일 요인 ANOVA 수행\n",
    "f_statistic, p_value = stats.f_oneway(*groups)\n",
    "\n",
    "# 결과 출력\n",
    "print(f'F-Statistic: {f_statistic}')\n",
    "print(f'P-Value: {p_value}')\n"
   ]
  },
  {
   "cell_type": "code",
   "execution_count": null,
   "metadata": {},
   "outputs": [],
   "source": [
    "!pip install statsmodels"
   ]
  },
  {
   "cell_type": "code",
   "execution_count": null,
   "metadata": {},
   "outputs": [],
   "source": [
    "# 나이대별 평균 잔액, 최소 잔액, 최대 잔액, 총 잔액 계산\n",
    "grouped = df.groupby('age_group')['balance'].agg(['mean', 'min', 'max', 'sum']).reset_index()\n",
    "\n",
    "print(grouped)\n"
   ]
  },
  {
   "cell_type": "code",
   "execution_count": null,
   "metadata": {},
   "outputs": [],
   "source": [
    "df['balance'].value_counts()"
   ]
  },
  {
   "cell_type": "code",
   "execution_count": null,
   "metadata": {},
   "outputs": [],
   "source": [
    "import matplotlib.pyplot as plt\n",
    "\n",
    "# 나이대별 평균 잔액 시각화\n",
    "plt.figure(figsize=(10, 6))\n",
    "plt.bar(grouped['age_group'], grouped['mean'], color='skyblue', edgecolor='black')\n",
    "plt.xlabel('Age Group')\n",
    "plt.ylabel('Average Balance')\n",
    "plt.title('Average Account Balance by Age Group')\n",
    "plt.show()\n",
    "\n",
    "# 나이대별 총 잔액 시각화\n",
    "plt.figure(figsize=(10, 6))\n",
    "plt.bar(grouped['age_group'], grouped['sum'], color='lightgreen', edgecolor='black')\n",
    "plt.xlabel('Age Group')\n",
    "plt.ylabel('Total Balance')\n",
    "plt.title('Total Account Balance by Age Group')\n",
    "plt.show()\n"
   ]
  },
  {
   "cell_type": "code",
   "execution_count": null,
   "metadata": {},
   "outputs": [],
   "source": [
    "filtered_data = df[df['balance'] != 0.00]\n",
    "filtered_data['balance'].value_counts()"
   ]
  },
  {
   "cell_type": "code",
   "execution_count": null,
   "metadata": {},
   "outputs": [],
   "source": [
    "print(filtered_data['balance'].mean())\n",
    "print(filtered_data['balance'].median())\n",
    "# 평균값이랑 중앙값이랑 별 차이가 안 난다"
   ]
  },
  {
   "cell_type": "code",
   "execution_count": null,
   "metadata": {},
   "outputs": [],
   "source": [
    "df"
   ]
  },
  {
   "cell_type": "code",
   "execution_count": null,
   "metadata": {},
   "outputs": [],
   "source": [
    "df.dtypes"
   ]
  },
  {
   "cell_type": "code",
   "execution_count": null,
   "metadata": {},
   "outputs": [],
   "source": [
    "import pandas as pd\n",
    "import numpy as np\n",
    "from sklearn.feature_extraction import DictVectorizer\n",
    "from sklearn.preprocessing import LabelEncoder\n",
    "from sklearn.metrics import mutual_info_score\n",
    "\n",
    "# 예제 데이터프레임 생성\n",
    "# data = {\n",
    "#     'age': [23, 45, 34, 25, 32, 45, 54, 40, 38, 28],\n",
    "#     'salary': [50000, 60000, 70000, 50000, 60000, 75000, 80000, 90000, 95000, 60000],\n",
    "#     'category': ['A', 'B', 'C', 'A', 'B', 'C', 'A', 'B', 'C', 'A'],\n",
    "#     'gender': ['Male', 'Female', 'Female', 'Male', 'Female', 'Male', 'Female', 'Male', 'Female', 'Male']\n",
    "# }\n",
    "# df = pd.DataFrame(data)\n",
    "\n",
    "categorical_columns = df.select_dtypes(include=['category'])\n",
    "\n",
    "# 범주형 변수 인코딩\n",
    "label_encoders = {}\n",
    "for column in categorical_columns:\n",
    "    le = LabelEncoder()\n",
    "    df[column] = le.fit_transform(df[column])\n",
    "    label_encoders[column] = le\n",
    "\n",
    "# 엔트로피 계산 함수\n",
    "def entropy(y):\n",
    "    proportions = y.value_counts(normalize=True)\n",
    "    return -np.sum(proportions * np.log2(proportions))\n",
    "\n",
    "# 정보 이득 계산 함수\n",
    "def information_gain(df, feature, target):\n",
    "    total_entropy = entropy(df[target])\n",
    "    feature_values = df[feature].unique()\n",
    "    \n",
    "    weighted_entropy = 0\n",
    "    for value in feature_values:\n",
    "        subset = df[df[feature] == value]\n",
    "        weighted_entropy += (len(subset) / len(df)) * entropy(subset[target])\n",
    "    \n",
    "    return total_entropy - weighted_entropy\n",
    "\n",
    "# 각 칼럼에 대한 정보 이득 계산\n",
    "target = 'churn'\n",
    "for feature in df.columns:\n",
    "    if feature != target:\n",
    "        ig = information_gain(df, feature, target)\n",
    "        # print(f'Information Gain of {feature} with respect to {target}: {ig}')\n",
    "        print(f\"'{feature}':{ig}\")"
   ]
  },
  {
   "cell_type": "code",
   "execution_count": null,
   "metadata": {},
   "outputs": [],
   "source": [
    "info_gains={'credit_score':0.038547012884779575,\n",
    "'section of credit_score':0.0006065068745300106,\n",
    "'country':0.020222322423849803,\n",
    "'gender':0.008154397807196179,\n",
    "'age':0.10721551580707478,\n",
    "'age_group':0.08887078499166601,\n",
    "'tenure':0.0010139452215386369,\n",
    "'balance':0.5194251097245063,\n",
    "'balance_group':0.011307710863572629,\n",
    "'products_number':0.10092156424028342,\n",
    "'credit_card':3.6636757529517894e-05,\n",
    "'active_member':0.01773286854203171,\n",
    "'estimated_salary':0.7292666572167683}\n",
    "\n",
    "# 값에 따라 정렬된 항목 생성\n",
    "sorted_items = sorted(info_gains.items(), key=lambda x: x[1], reverse=True)\n",
    "\n",
    "# 정렬된 항목에서 키 값만 추출\n",
    "sorted_keys = [item[0] for item in sorted_items]\n",
    "\n",
    "# 결과 출력\n",
    "print(\"Keys sorted by value in descending order:\")\n",
    "for key in sorted_keys:\n",
    "    print(key)"
   ]
  },
  {
   "cell_type": "markdown",
   "metadata": {},
   "source": [
    "### **상관계수와 정보 이득의 차이**\n",
    "\n",
    "1. **선형 vs. 비선형 관계**:\n",
    "   - 상관계수는 주로 선형 관계를 측정합니다. 비선형 관계가 있는 경우 상관계수는 낮게 나올 수 있습니다.\n",
    "   - 정보 이득은 비선형 관계와 상호작용을 더 잘 포착할 수 있습니다. 따라서 비선형 관계가 중요한 경우에도 높은 정보 이득을 가질 수 있습니다.\n",
    "\n",
    "2. **엔트로피와 정보 이득**:\n",
    "   - 정보 이득은 엔트로피를 기반으로 하여 특성이 타겟 변수의 불확실성을 얼마나 줄이는지를 측정합니다. 이로 인해 데이터의 분포에 대한 상세한 정보를 제공합니다.\n",
    "   - 상관계수는 단순히 두 변수 간의 선형 관계를 측정하므로, 데이터의 분포나 비선형 관계를 반영하지 못할 수 있습니다.\n",
    "\n",
    "### **예시: `estimated_salary`의 경우**\n",
    "\n",
    "- **상관계수**: `estimated_salary`와 `churn` 간의 상관계수가 낮다면, 선형 관계가 약하다는 것을 의미합니다.\n",
    "- **정보 이득**: 정보 이득이 높다면, `estimated_salary`가 `churn`의 분포를 설명하는 데 유용할 수 있습니다. 이는 `estimated_salary`가 `churn`의 분포를 구분짓는 데 중요한 역할을 할 수 있다는 것을 의미합니다, 비선형 관계일 수 있습니다.\n",
    "\n",
    "### **종합적으로**\n",
    "\n",
    "정보 이득이 상관계수와 다를 수 있는 이유는 정보 이득이 엔트로피 기반의 지표로, 데이터의 비선형적인 상호작용도 고려할 수 있기 때문입니다. 상관계수는 단순히 선형 관계를 측정하는 반면, 정보 이득은 특성이 타겟 변수에 대한 정보 제공의 효과를 평가합니다.\n",
    "\n",
    "따라서, `estimated_salary`의 경우 비선형적이거나 복잡한 관계로 인해 정보 이득이 높게 나올 수 있으며, 이 경우에도 중요한 변수일 수 있습니다."
   ]
  },
  {
   "cell_type": "code",
   "execution_count": null,
   "metadata": {},
   "outputs": [],
   "source": [
    "plt.figure(figsize=(12, 6))\n",
    "\n",
    "# 'churn' 값이 0인 데이터\n",
    "plt.subplot(1, 2, 1)\n",
    "sns.histplot(df[df['churn'] == 0]['estimated_salary'], kde=True, bins=30, color='skyblue', edgecolor='black')\n",
    "# plt.title('Distribution of Estimated Salary (Churn = 0)')\n",
    "plt.xlabel('estimated_salary')\n",
    "plt.ylabel('Frequency')\n",
    "\n",
    "# 'churn' 값이 1인 데이터\n",
    "plt.subplot(1, 2, 2)\n",
    "sns.histplot(df[df['churn'] == 1]['estimated_salary'], kde=True, bins=30, color='lightcoral', edgecolor='black')\n",
    "# plt.title('Distribution of Estimated Salary (Churn = 1)')\n",
    "plt.xlabel('estimated_salary')\n",
    "plt.ylabel('Frequency')\n",
    "\n",
    "plt.tight_layout()\n",
    "plt.show()\n"
   ]
  },
  {
   "cell_type": "code",
   "execution_count": null,
   "metadata": {},
   "outputs": [],
   "source": [
    "import pandas as pd\n",
    "import seaborn as sns\n",
    "import matplotlib.pyplot as plt\n",
    "\n",
    "# 예시 데이터프레임 생성 (실제 데이터프레임 사용 시 이 부분을 생략하고, 실제 데이터프레임을 사용하세요)\n",
    "# df = pd.read_csv('your_data.csv')  # 데이터 로드 예시\n",
    "\n",
    "# 'churn' 칼럼이 이진 변수라고 가정하고, 0과 1로 구분되어 있다고 가정\n",
    "# 'estimated_salary'와 'churn' 칼럼을 사용하여 히스토그램을 그립니다\n",
    "\n",
    "plt.figure(figsize=(12, 6))\n",
    "\n",
    "# 'churn' 값이 0인 데이터\n",
    "plt.subplot(1, 2, 1)\n",
    "sns.histplot(df[df['churn'] == 0]['balance'], kde=True, bins=30, color='skyblue', edgecolor='black')\n",
    "# plt.title('Distribution of Estimated Salary (Churn = 0)')\n",
    "plt.xlabel('balance')\n",
    "plt.ylabel('Frequency')\n",
    "\n",
    "# 'churn' 값이 1인 데이터\n",
    "plt.subplot(1, 2, 2)\n",
    "sns.histplot(df[df['churn'] == 1]['balance'], kde=True, bins=30, color='lightcoral', edgecolor='black')\n",
    "# plt.title('Distribution of Estimated Salary (Churn = 1)')\n",
    "plt.xlabel('balance')\n",
    "plt.ylabel('Frequency')\n",
    "\n",
    "plt.tight_layout()\n",
    "plt.show()\n"
   ]
  },
  {
   "cell_type": "code",
   "execution_count": null,
   "metadata": {},
   "outputs": [],
   "source": [
    "import pandas as pd\n",
    "import seaborn as sns\n",
    "import matplotlib.pyplot as plt\n",
    "\n",
    "# 예시 데이터프레임 생성 (실제 데이터프레임 사용 시 이 부분을 생략하고, 실제 데이터프레임을 사용하세요)\n",
    "# df = pd.read_csv('your_data.csv')  # 데이터 로드 예시\n",
    "\n",
    "# 'churn' 칼럼이 이진 변수라고 가정하고, 0과 1로 구분되어 있다고 가정\n",
    "# 'estimated_salary'와 'churn' 칼럼을 사용하여 히스토그램을 그립니다\n",
    "\n",
    "plt.figure(figsize=(12, 6))\n",
    "\n",
    "# 'churn' 값이 0인 데이터\n",
    "plt.subplot(1, 2, 1)\n",
    "sns.histplot(df[df['churn'] == 0]['age'], kde=True, bins=30, color='skyblue', edgecolor='black')\n",
    "# plt.title('Distribution of Estimated Salary (Churn = 0)')\n",
    "plt.xlabel('age')\n",
    "plt.ylabel('Frequency')\n",
    "\n",
    "# 'churn' 값이 1인 데이터\n",
    "plt.subplot(1, 2, 2)\n",
    "sns.histplot(df[df['churn'] == 1]['age'], kde=True, bins=30, color='lightcoral', edgecolor='black')\n",
    "# plt.title('Distribution of Estimated Salary (Churn = 1)')\n",
    "plt.xlabel('age')\n",
    "plt.ylabel('Frequency')\n",
    "\n",
    "plt.tight_layout()\n",
    "plt.show()"
   ]
  },
  {
   "cell_type": "code",
   "execution_count": null,
   "metadata": {},
   "outputs": [],
   "source": [
    "# 수치형 칼럼만 선택\n",
    "numeric_columns = df.select_dtypes(include=['number'])\n",
    "\n",
    "import matplotlib.pyplot as plt\n",
    "\n",
    "# 각 수치형 칼럼에 대해 히스토그램 그리기\n",
    "for col in numeric_columns.columns:\n",
    "    plt.figure(figsize=(8, 6))\n",
    "    numeric_columns[col].plot(kind='hist', bins=10, color='skyblue', edgecolor='black')\n",
    "    # plt.title(f'Histogram of {col}')\n",
    "    plt.xlabel(col)\n",
    "    plt.ylabel('Frequency')\n",
    "    plt.grid(True)\n",
    "    plt.show()\n"
   ]
  },
  {
   "cell_type": "code",
   "execution_count": null,
   "metadata": {},
   "outputs": [],
   "source": [
    "numeric_columns = df.select_dtypes(include=['number'])\n",
    "\n",
    "# 각 칼럼에서 값이 0인 것의 개수 세기\n",
    "zero_counts = numeric_columns.apply(lambda x: (x == 0).sum())\n",
    "\n",
    "print(\"\\nCount of zeros in each column:\")\n",
    "print(zero_counts)\n"
   ]
  },
  {
   "cell_type": "code",
   "execution_count": null,
   "metadata": {},
   "outputs": [],
   "source": [
    "# 이상치는 없고 결측치 처리는 balance만 하면 된다\n",
    "# 근데 결측치가 전체의 약 36퍼센트나 된다\n",
    "\n",
    "# 데이터의 대표성 왜곡:\n",
    "# 결측치가 많은 경우, 평균이나 중앙값으로 대체하면 데이터의 대표성이 왜곡될 수 있습니다.\n",
    "# 데이터의 패턴이나 분포를 충분히 반영하지 못할 수 있습니다.\n",
    "\n",
    "# 변동성 감소:\n",
    "# 평균이나 중앙값으로 대체하면 데이터의 변동성이 감소하게 됩니다.\n",
    "# 이는 실제 데이터의 분포를 왜곡하고 분석 결과에 영향을 미칠 수 있습니다.\n",
    "\n",
    "# 정보 손실:\n",
    "# 결측치를 대체할 때 데이터의 원래 정보를 잃을 수 있습니다.\n",
    "# 특히 결측치가 많은 경우, 대체된 값들이 실제 데이터와 차이가 클 수 있습니다."
   ]
  },
  {
   "cell_type": "code",
   "execution_count": null,
   "metadata": {},
   "outputs": [],
   "source": [
    "# 데이터프레임에서 특정 값의 행만 선택\n",
    "filtered_df = df[df['balance_group'] == 'zero']\n",
    "\n",
    "filtered_df"
   ]
  },
  {
   "cell_type": "code",
   "execution_count": null,
   "metadata": {},
   "outputs": [],
   "source": [
    "filtered_df.dtypes"
   ]
  },
  {
   "cell_type": "code",
   "execution_count": null,
   "metadata": {},
   "outputs": [],
   "source": [
    "import pandas as pd\n",
    "\n",
    "# 수치형 칼럼만 선택\n",
    "numeric_df = filtered_df.select_dtypes(include=['number'])\n",
    "numeric_df"
   ]
  },
  {
   "cell_type": "code",
   "execution_count": null,
   "metadata": {},
   "outputs": [],
   "source": [
    "# 수치형 칼럼만 선택\n",
    "numeric_df = filtered_df.select_dtypes(include=['number'])\n",
    "\n",
    "# 각 수치형 칼럼에 대해 히스토그램을 개별적으로 플로팅\n",
    "for column in numeric_df.columns:\n",
    "    plt.figure(figsize=(8, 6))\n",
    "    sns.histplot(numeric_df[column], kde=True, bins=10)\n",
    "    plt.title(f'Distribution of {column}')  # 칼럼명에 따라 제목 설정\n",
    "    plt.xlabel(column)  # 칼럼명으로 x축 레이블 설정\n",
    "    plt.ylabel('Frequency')  # y축 레이블 설정\n",
    "    plt.show()  # 각 플롯을 개별적으로 출력"
   ]
  },
  {
   "cell_type": "code",
   "execution_count": null,
   "metadata": {},
   "outputs": [],
   "source": [
    "# 범주형 칼럼만 선택\n",
    "categorical_df = filtered_df.select_dtypes(include=['category'])\n",
    "\n",
    "import seaborn as sns\n",
    "import matplotlib.pyplot as plt\n",
    "\n",
    "# 각 범주형 칼럼에 대해 막대 그래프를 개별적으로 플로팅\n",
    "for column in categorical_df.columns:\n",
    "    plt.figure(figsize=(8, 6))\n",
    "    sns.countplot(x=categorical_df[column])\n",
    "    plt.title(f'Count of {column}')\n",
    "    plt.xlabel(column)\n",
    "    plt.ylabel('Count')\n",
    "    plt.show()\n"
   ]
  },
  {
   "cell_type": "code",
   "execution_count": null,
   "metadata": {},
   "outputs": [],
   "source": [
    "import pandas as pd\n",
    "import numpy as np\n",
    "from sklearn.feature_extraction import DictVectorizer\n",
    "from sklearn.preprocessing import LabelEncoder\n",
    "from sklearn.metrics import mutual_info_score\n",
    "\n",
    "# 예제 데이터프레임 생성\n",
    "data = {\n",
    "    'age': [23, 45, 34, 25, 32, 45, 54, 40, 38, 28],\n",
    "    'salary': [50000, 60000, 70000, 50000, 60000, 75000, 80000, 90000, 95000, 60000],\n",
    "    'category': ['A', 'B', 'C', 'A', 'B', 'C', 'A', 'B', 'C', 'A'],\n",
    "    'gender': ['Male', 'Female', 'Female', 'Male', 'Female', 'Male', 'Female', 'Male', 'Female', 'Male']\n",
    "}\n",
    "df = pd.DataFrame(data)\n",
    "\n",
    "# 범주형 변수 인코딩\n",
    "label_encoders = {}\n",
    "for column in ['category', 'gender']:\n",
    "    le = LabelEncoder()\n",
    "    df[column] = le.fit_transform(df[column])\n",
    "    label_encoders[column] = le\n",
    "\n",
    "# 엔트로피 계산 함수\n",
    "def entropy(y):\n",
    "    proportions = y.value_counts(normalize=True)\n",
    "    return -np.sum(proportions * np.log2(proportions))\n",
    "\n",
    "# 정보 이득 계산 함수\n",
    "def information_gain(df, feature, target):\n",
    "    total_entropy = entropy(df[target])\n",
    "    feature_values = df[feature].unique()\n",
    "    \n",
    "    weighted_entropy = 0\n",
    "    for value in feature_values:\n",
    "        subset = df[df[feature] == value]\n",
    "        weighted_entropy += (len(subset) / len(df)) * entropy(subset[target])\n",
    "    \n",
    "    return total_entropy - weighted_entropy\n",
    "\n",
    "# 각 칼럼에 대한 정보 이득 계산\n",
    "target = 'category'\n",
    "for feature in df.columns:\n",
    "    if feature != target:\n",
    "        ig = information_gain(df, feature, target)\n",
    "        print(f'Information Gain of {feature} with respect to {target}: {ig}')\n"
   ]
  }
 ],
 "metadata": {
  "kernelspec": {
   "display_name": "practice_mldl",
   "language": "python",
   "name": "python3"
  },
  "language_info": {
   "codemirror_mode": {
    "name": "ipython",
    "version": 3
   },
   "file_extension": ".py",
   "mimetype": "text/x-python",
   "name": "python",
   "nbconvert_exporter": "python",
   "pygments_lexer": "ipython3",
   "version": "3.8.19"
  }
 },
 "nbformat": 4,
 "nbformat_minor": 2
}
